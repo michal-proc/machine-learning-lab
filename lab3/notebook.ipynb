{
 "cells": [
  {
   "cell_type": "markdown",
   "metadata": {
    "id": "NnPRtu7AqJn1"
   },
   "source": [
    "# Metody jądrowe (kernel methods)"
   ]
  },
  {
   "cell_type": "code",
   "metadata": {
    "id": "0XS6H8NTqJn3",
    "ExecuteTime": {
     "end_time": "2025-04-16T22:18:17.602741Z",
     "start_time": "2025-04-16T22:18:14.951589Z"
    }
   },
   "source": [
    "import numpy as np\n",
    "import pandas as pd\n",
    "import matplotlib.pyplot as plt"
   ],
   "outputs": [],
   "execution_count": 1
  },
  {
   "cell_type": "markdown",
   "metadata": {
    "id": "gJzDN-lLqJn4"
   },
   "source": [
    "## Duży zbiór danych do klasyfikacji"
   ]
  },
  {
   "cell_type": "markdown",
   "metadata": {
    "id": "qg0nNPS1qJn4"
   },
   "source": [
    "Użyjemy najpierw bioinformatycznego zbioru danych [Cod-RNA](https://www.csie.ntu.edu.tw/~cjlin/libsvmtools/datasets/binary.html#cod-rna). Pochodzi on z artykułu ([link do wersji Open Access](https://bmcbioinformatics.biomedcentral.com/articles/10.1186/1471-2105-7-173)):\n",
    "\n",
    "> Uzilov, Andrew V., Joshua M. Keegan, and David H. Mathews. *\"Detection of non-coding RNAs on the basis of predicted secondary structure formation free energy change.\"* BMC bioinformatics 7.1 (2006): 1-30. [link](https://bmcbioinformatics.biomedcentral.com/articles/10.1186/1471-2105-7-173)\n",
    "\n",
    "[Centralny dogmat biologii molekularnej (central dogma of molecular biology)](https://en.wikipedia.org/wiki/Central_dogma_of_molecular_biology) mówi, że przepływ informacji genetycznej przebiega z DNA przez RNA do białek. Innymi słowy, DNA zapisuje informację biologiczną, którą potem koduje RNA, z którego są syntezowane białka.\n",
    "\n",
    "W praktyce nie każde DNA i RNA koduje informacje. Kodujące DNA to zaledwie ok. 1-2% ludzkiego genomu, a reszta pełni różne role, głównie regulacyjne. W szczególności [niekodujące RNA (non-coding RNA, ncRNA)](https://en.wikipedia.org/wiki/Non-coding_RNA) pełni wiele różnych zadań, na przykład:\n",
    "- budują rybosomy odpowiadające za syntezę białek ([rRNA](https://en.wikipedia.org/wiki/Ribosomal_RNA))\n",
    "- transportują informację genetyczną ([tRNA](https://en.wikipedia.org/wiki/Transfer_RNA))\n",
    "- regulują ekspresję genów ([lncRNA](https://en.wikipedia.org/wiki/Long_non-coding_RNA))\n",
    "\n",
    "Nie są znane wszystkie funkcje niekodującego RNA, więc jest to aktywne pole badań. Najpierw trzeba jednak sprawdzić, czy dane RNA w ogóle jest kodujące, czy nie. Taka klasyfikacja jest nieoczywista, i też stanowi pole badań w bioinformatyce. Niektóre hipotezy wskazują, że struktura drugorzędowa RNA ma tutaj znacznie.\n",
    "\n",
    "Struktura pierwszorzędowa kwasu nukleinowego (DNA lub RNA) to po prostu liniowa sekwencja nukleotydów, np. ACCUUGCAUC. Struktura drugorzędowa oznacza ułożenie par nukleotydów (np. G-C, A-U) jednego lub dwóch łańcuchów.  Dla DNA to typowo podwójna helisa, natomiast RNA tworzy już bardzo bogate i złożone struktury. Przewidywanie struktury wyższego rzędu to typowe zadanie ML w bioinformatyce, bo sprawdzanie tego eksperymentalnie jest bardzo drogie.\n",
    "\n",
    "![nucleic_acid_structures.png](attachment:3d2ac180-56dc-4e76-996c-c65846b1cc70.png)\n",
    "\n",
    "Przykładem algorytmu przewidującego strukturę drugorzędową jest [Dynalign](https://www.sciencedirect.com/science/article/abs/pii/S0022283601953513). Opiera się on na obserwacji, że niektóre struktury drugorzędowe RNA są bardziej stabilne od innych. Struktury o niższej energii są, zgodnie z zasadami termodynamiki, wolniejsze, a zatem stabilniejsze i bardziej prawdopodobne. Algorytm ten dodatkowo realizuje **dopasowanie sekwencji (sequence alignment)**, czyli takie \"przyłożenie\" do siebie sekwencji RNA, żeby jak najwięcej par pasowało do siebie. Wejściem do niego są 2 sekwencje RNA, a wyjściem ilość wolnej energii w optymalnej strukturze drugorzędowej RNA - im mniejsza, tym stabilniejsza jest struktura.\n",
    "\n",
    "Artykuł, z którego pochodzi nasz zbiór danych, zaproponował zastosowanie ML do klasyfikacji, czy dwie sekwencje RNA stanowią niekodujące RNA (ncRNA), czy też nie. Zbiór treningowy zbudowano z blisko 60 tysięcy par sekwencji RNA pochodzących z sekwencjonowania genomu bakterii *Escherichia coli* oraz *Salmonella enterica serovar Typhi (Salmonella typhi)*. Klasą pozytywną jest niekodujące RNA (5S rRNA albo tRNA), a negatywną losowo przemieszane nukleotydy z prawdziwej pary (istnieją do tego algorytmy tzw. sequence shuffling). Klasy są w stosunku 1:2, więc mamy klasyfikację lekko niezbalansowaną. Analogicznie stworzono zbiór testowy o wielkości nieco ponad 270 tysięcy par.\n",
    "\n",
    "Jako cech użyto:\n",
    "- wartości z algorytmu Dynalign\n",
    "- długości krótszej sekwencji\n",
    "- częstotliwości zasad azotowych A/U/C w sekwencji 1 (3 cechy)\n",
    "- częstotliwości zasad azotowych A/U/C w sekwencji 2 (3 cechy)\n",
    "\n",
    "Mamy zatem klasyfikację binarną, umiarkowanie niezbalansowaną, i 8 cech numerycznych. Jako metryk autorzy używają precyzji, czułości, krzywych ROC oraz wartości AUROC.\n",
    "\n",
    "My dla uproszczenia użyjemy F1-score, czyli średniej harmonicznej precyzji (precision) i czułości (recall). Klasyczny SVM nie potrafi przewidywać prawdopodobieństw, a rozwinięcie, które na to pozwala (tzw. Platt scaling), jest kosztowne i daje raczej niskiej jakości predykcje prawdopodobieństw. Z tego powodu AUROC nie jest dla nich zbyt wygodną metryką."
   ]
  },
  {
   "cell_type": "markdown",
   "metadata": {
    "id": "E2VYZzJoqJn5"
   },
   "source": [
    "Oryginalny zbiór jest w formacie `svmlight`, z którego korzystają biblioteki LibSVM i Liblinear. Są one standardowymi implementacjami SVMów. Sam ten format danych jest jednak tekstowy i zajmuje bardzo dużo miejsca, dlatego w tym repozytorium jest już przetworzony do formatu Parquet. Wczytamy teraz dane.\n",
    "\n",
    "Później trzeba dokonać normalizacji cech, tak jak zawsze w SVMach. Tak jak autorzy, wykonamy skalowanie min-max do zakresu [-1, 1]."
   ]
  },
  {
   "cell_type": "markdown",
   "metadata": {
    "id": "GX9u236nqJn5"
   },
   "source": [
    "**Zadanie 1 (0.5 punktu)**\n",
    "\n",
    "1. Wczytaj dane treningowe z plików `cod_rna_train.parquet` oraz `cod_rna_test.parquet`.\n",
    "2. Wyodrębnij kolumnę `y` do osobnych zmiennych `y_train` oraz `y_test`.\n",
    "3. Dokonaj skalowania danych do zakresu [-1, 1], tworząc tablice `X_train_scaled` oraz `X_test_scaled`.\n",
    "4. Narysuj wykres częstości klas w zbiorze treningowym."
   ]
  },
  {
   "cell_type": "code",
   "metadata": {
    "id": "OwTgIdq0qJn6",
    "ExecuteTime": {
     "end_time": "2025-04-16T22:18:18.239034Z",
     "start_time": "2025-04-16T22:18:17.610747Z"
    }
   },
   "source": [
    "df_train = pd.read_parquet(\"cod_rna_train.parquet\")\n",
    "df_test = pd.read_parquet(\"cod_rna_test.parquet\")"
   ],
   "outputs": [],
   "execution_count": 2
  },
  {
   "cell_type": "code",
   "source": [
    "df_train.head()"
   ],
   "metadata": {
    "id": "hzNJrM3RqfBl",
    "outputId": "539987e0-2f73-4e20-ef55-512ad59a09b1",
    "colab": {
     "base_uri": "https://localhost:8080/",
     "height": 206
    },
    "ExecuteTime": {
     "end_time": "2025-04-16T22:18:18.653653Z",
     "start_time": "2025-04-16T22:18:18.628087Z"
    }
   },
   "outputs": [
    {
     "data": {
      "text/plain": [
       "   Dynalign  ShorterSeqLength  Seq1FreqA  Seq1FreqU  Seq1FreqC  Seq2FreqA  \\\n",
       "0    -766.0             128.0   0.140625   0.304688   0.234375   0.140625   \n",
       "1    -726.0             131.0   0.129771   0.328244   0.229008   0.129771   \n",
       "2    -648.0             123.0   0.146341   0.333333   0.211382   0.146341   \n",
       "3    -764.0             124.0   0.137097   0.322581   0.233871   0.137097   \n",
       "4    -584.0             130.0   0.153846   0.392308   0.184615   0.153846   \n",
       "\n",
       "   Seq2FreqU  Seq2FreqC    y  \n",
       "0   0.304688   0.234375 -1.0  \n",
       "1   0.328244   0.229008 -1.0  \n",
       "2   0.333333   0.211382 -1.0  \n",
       "3   0.322581   0.233871 -1.0  \n",
       "4   0.392308   0.184615 -1.0  "
      ],
      "text/html": [
       "<div>\n",
       "<style scoped>\n",
       "    .dataframe tbody tr th:only-of-type {\n",
       "        vertical-align: middle;\n",
       "    }\n",
       "\n",
       "    .dataframe tbody tr th {\n",
       "        vertical-align: top;\n",
       "    }\n",
       "\n",
       "    .dataframe thead th {\n",
       "        text-align: right;\n",
       "    }\n",
       "</style>\n",
       "<table border=\"1\" class=\"dataframe\">\n",
       "  <thead>\n",
       "    <tr style=\"text-align: right;\">\n",
       "      <th></th>\n",
       "      <th>Dynalign</th>\n",
       "      <th>ShorterSeqLength</th>\n",
       "      <th>Seq1FreqA</th>\n",
       "      <th>Seq1FreqU</th>\n",
       "      <th>Seq1FreqC</th>\n",
       "      <th>Seq2FreqA</th>\n",
       "      <th>Seq2FreqU</th>\n",
       "      <th>Seq2FreqC</th>\n",
       "      <th>y</th>\n",
       "    </tr>\n",
       "  </thead>\n",
       "  <tbody>\n",
       "    <tr>\n",
       "      <th>0</th>\n",
       "      <td>-766.0</td>\n",
       "      <td>128.0</td>\n",
       "      <td>0.140625</td>\n",
       "      <td>0.304688</td>\n",
       "      <td>0.234375</td>\n",
       "      <td>0.140625</td>\n",
       "      <td>0.304688</td>\n",
       "      <td>0.234375</td>\n",
       "      <td>-1.0</td>\n",
       "    </tr>\n",
       "    <tr>\n",
       "      <th>1</th>\n",
       "      <td>-726.0</td>\n",
       "      <td>131.0</td>\n",
       "      <td>0.129771</td>\n",
       "      <td>0.328244</td>\n",
       "      <td>0.229008</td>\n",
       "      <td>0.129771</td>\n",
       "      <td>0.328244</td>\n",
       "      <td>0.229008</td>\n",
       "      <td>-1.0</td>\n",
       "    </tr>\n",
       "    <tr>\n",
       "      <th>2</th>\n",
       "      <td>-648.0</td>\n",
       "      <td>123.0</td>\n",
       "      <td>0.146341</td>\n",
       "      <td>0.333333</td>\n",
       "      <td>0.211382</td>\n",
       "      <td>0.146341</td>\n",
       "      <td>0.333333</td>\n",
       "      <td>0.211382</td>\n",
       "      <td>-1.0</td>\n",
       "    </tr>\n",
       "    <tr>\n",
       "      <th>3</th>\n",
       "      <td>-764.0</td>\n",
       "      <td>124.0</td>\n",
       "      <td>0.137097</td>\n",
       "      <td>0.322581</td>\n",
       "      <td>0.233871</td>\n",
       "      <td>0.137097</td>\n",
       "      <td>0.322581</td>\n",
       "      <td>0.233871</td>\n",
       "      <td>-1.0</td>\n",
       "    </tr>\n",
       "    <tr>\n",
       "      <th>4</th>\n",
       "      <td>-584.0</td>\n",
       "      <td>130.0</td>\n",
       "      <td>0.153846</td>\n",
       "      <td>0.392308</td>\n",
       "      <td>0.184615</td>\n",
       "      <td>0.153846</td>\n",
       "      <td>0.392308</td>\n",
       "      <td>0.184615</td>\n",
       "      <td>-1.0</td>\n",
       "    </tr>\n",
       "  </tbody>\n",
       "</table>\n",
       "</div>"
      ]
     },
     "execution_count": 3,
     "metadata": {},
     "output_type": "execute_result"
    }
   ],
   "execution_count": 3
  },
  {
   "cell_type": "code",
   "source": [
    "df_test.head()"
   ],
   "metadata": {
    "id": "Kr7gybCfqeoY",
    "outputId": "a8b16183-653f-4d7f-c7a5-16e4312fe1ea",
    "colab": {
     "base_uri": "https://localhost:8080/",
     "height": 206
    },
    "ExecuteTime": {
     "end_time": "2025-04-16T22:18:18.702506Z",
     "start_time": "2025-04-16T22:18:18.693477Z"
    }
   },
   "outputs": [
    {
     "data": {
      "text/plain": [
       "   Dynalign  ShorterSeqLength  Seq1FreqA  Seq1FreqU  Seq1FreqC  Seq2FreqA  \\\n",
       "0    -500.0             128.0   0.140625   0.304688   0.234375   0.129771   \n",
       "1    -541.0             123.0   0.140625   0.304688   0.234375   0.146341   \n",
       "2    -479.0             124.0   0.140625   0.304688   0.234375   0.137097   \n",
       "3    -427.0             128.0   0.140625   0.304688   0.234375   0.153846   \n",
       "4    -478.0             120.0   0.140625   0.304688   0.234375   0.250000   \n",
       "\n",
       "   Seq2FreqU  Seq2FreqC    y  \n",
       "0   0.328244   0.229008 -1.0  \n",
       "1   0.333333   0.211382 -1.0  \n",
       "2   0.322581   0.233871 -1.0  \n",
       "3   0.392308   0.184615 -1.0  \n",
       "4   0.216667   0.275000 -1.0  "
      ],
      "text/html": [
       "<div>\n",
       "<style scoped>\n",
       "    .dataframe tbody tr th:only-of-type {\n",
       "        vertical-align: middle;\n",
       "    }\n",
       "\n",
       "    .dataframe tbody tr th {\n",
       "        vertical-align: top;\n",
       "    }\n",
       "\n",
       "    .dataframe thead th {\n",
       "        text-align: right;\n",
       "    }\n",
       "</style>\n",
       "<table border=\"1\" class=\"dataframe\">\n",
       "  <thead>\n",
       "    <tr style=\"text-align: right;\">\n",
       "      <th></th>\n",
       "      <th>Dynalign</th>\n",
       "      <th>ShorterSeqLength</th>\n",
       "      <th>Seq1FreqA</th>\n",
       "      <th>Seq1FreqU</th>\n",
       "      <th>Seq1FreqC</th>\n",
       "      <th>Seq2FreqA</th>\n",
       "      <th>Seq2FreqU</th>\n",
       "      <th>Seq2FreqC</th>\n",
       "      <th>y</th>\n",
       "    </tr>\n",
       "  </thead>\n",
       "  <tbody>\n",
       "    <tr>\n",
       "      <th>0</th>\n",
       "      <td>-500.0</td>\n",
       "      <td>128.0</td>\n",
       "      <td>0.140625</td>\n",
       "      <td>0.304688</td>\n",
       "      <td>0.234375</td>\n",
       "      <td>0.129771</td>\n",
       "      <td>0.328244</td>\n",
       "      <td>0.229008</td>\n",
       "      <td>-1.0</td>\n",
       "    </tr>\n",
       "    <tr>\n",
       "      <th>1</th>\n",
       "      <td>-541.0</td>\n",
       "      <td>123.0</td>\n",
       "      <td>0.140625</td>\n",
       "      <td>0.304688</td>\n",
       "      <td>0.234375</td>\n",
       "      <td>0.146341</td>\n",
       "      <td>0.333333</td>\n",
       "      <td>0.211382</td>\n",
       "      <td>-1.0</td>\n",
       "    </tr>\n",
       "    <tr>\n",
       "      <th>2</th>\n",
       "      <td>-479.0</td>\n",
       "      <td>124.0</td>\n",
       "      <td>0.140625</td>\n",
       "      <td>0.304688</td>\n",
       "      <td>0.234375</td>\n",
       "      <td>0.137097</td>\n",
       "      <td>0.322581</td>\n",
       "      <td>0.233871</td>\n",
       "      <td>-1.0</td>\n",
       "    </tr>\n",
       "    <tr>\n",
       "      <th>3</th>\n",
       "      <td>-427.0</td>\n",
       "      <td>128.0</td>\n",
       "      <td>0.140625</td>\n",
       "      <td>0.304688</td>\n",
       "      <td>0.234375</td>\n",
       "      <td>0.153846</td>\n",
       "      <td>0.392308</td>\n",
       "      <td>0.184615</td>\n",
       "      <td>-1.0</td>\n",
       "    </tr>\n",
       "    <tr>\n",
       "      <th>4</th>\n",
       "      <td>-478.0</td>\n",
       "      <td>120.0</td>\n",
       "      <td>0.140625</td>\n",
       "      <td>0.304688</td>\n",
       "      <td>0.234375</td>\n",
       "      <td>0.250000</td>\n",
       "      <td>0.216667</td>\n",
       "      <td>0.275000</td>\n",
       "      <td>-1.0</td>\n",
       "    </tr>\n",
       "  </tbody>\n",
       "</table>\n",
       "</div>"
      ]
     },
     "execution_count": 4,
     "metadata": {},
     "output_type": "execute_result"
    }
   ],
   "execution_count": 4
  },
  {
   "cell_type": "code",
   "source": [
    "from sklearn.preprocessing import MinMaxScaler\n",
    "\n",
    "y_train = df_train['y']\n",
    "y_test = df_test['y']\n",
    "\n",
    "scaler = MinMaxScaler(feature_range=(-1, 1))\n",
    "\n",
    "X_train_scaled = scaler.fit_transform(df_train.drop(columns=['y']))\n",
    "X_test_scaled = scaler.transform(df_test.drop(columns=['y']))\n",
    "\n",
    "y_train.value_counts().plot(kind='bar')\n",
    "plt.title(\"Class Frequency\")\n",
    "plt.xlabel(\"Class\")\n",
    "plt.ylabel(\"Number of Samples\")"
   ],
   "metadata": {
    "id": "c5suVwD4q6xc",
    "outputId": "c8417c4b-dc5e-405d-81ba-52d56e88ff0b",
    "colab": {
     "base_uri": "https://localhost:8080/",
     "height": 502
    },
    "ExecuteTime": {
     "end_time": "2025-04-16T22:18:23.535544Z",
     "start_time": "2025-04-16T22:18:18.760512Z"
    }
   },
   "outputs": [
    {
     "data": {
      "text/plain": [
       "Text(0, 0.5, 'Number of Samples')"
      ]
     },
     "execution_count": 5,
     "metadata": {},
     "output_type": "execute_result"
    },
    {
     "data": {
      "text/plain": [
       "<Figure size 640x480 with 1 Axes>"
      ],
      "image/png": "[encoded data removed]"
     },
     "metadata": {},
     "output_type": "display_data"
    }
   ],
   "execution_count": 5
  },
  {
   "cell_type": "markdown",
   "metadata": {
    "id": "0NYNtUgFqJn6"
   },
   "source": [
    "Skoro dane są gotowe, to wytrenujmy nasz pierwszy klasyfikator - liniowy SVM.\n",
    "\n",
    "W Scikit-learn funkcja kosztu (`loss`) to albo typowy hinge loss, albo squared hinge loss, czyli po prostu podniesiona do kwadratu. Wartość domyślna to `\"squared_hinge\"` - żeby dostać \"typowego\" SVMa, trzeba to zmienić. Jest różniczkowalna i mocniej kara duże błędy, ale jest też bardziej podatna na outliery. Dla zainteresowanych: [przystępny tutorial](https://github.com/christianversloot/machine-learning-articles/blob/main/how-to-use-hinge-squared-hinge-loss-with-keras.md) oraz artykuł naukowy:\n",
    "\n",
    "C.P. Lee, and C.J. Lin. *\"A study on L2-loss (squared hinge-loss) multiclass SVM.\"* Neural computation 25.5 (2013): 1302-1323.\n",
    "\n",
    "Dodatkowo domyślna liczba iteracji solwera (1000) jest często dość niska, szczególnie przy dużych zbiorach. Zwiększymy to od razu, żeby mieć mniej warningów. Powyżej 10 tysięcy iteracji warningami można się już zazwyczaj nie przejmować."
   ]
  },
  {
   "cell_type": "code",
   "metadata": {
    "id": "SmSxbrsBqJn6",
    "outputId": "85b9e0d7-89f2-4eae-ab85-79bb04b22a83",
    "colab": {
     "base_uri": "https://localhost:8080/"
    },
    "ExecuteTime": {
     "end_time": "2025-04-16T22:18:24.258544Z",
     "start_time": "2025-04-16T22:18:23.576187Z"
    }
   },
   "source": [
    "from sklearn.metrics import f1_score\n",
    "from sklearn.svm import LinearSVC\n",
    "\n",
    "clf_linear_svc = LinearSVC(loss=\"hinge\", max_iter=10000, random_state=0)\n",
    "clf_linear_svc.fit(X_train_scaled, y_train)\n",
    "\n",
    "y_pred = clf_linear_svc.predict(X_test_scaled)\n",
    "print(f\"F1-score: {100 * f1_score(y_test, y_pred):.2f}%\")"
   ],
   "outputs": [
    {
     "name": "stdout",
     "output_type": "stream",
     "text": [
      "F1-score: 93.03%\n"
     ]
    }
   ],
   "execution_count": 6
  },
  {
   "cell_type": "markdown",
   "metadata": {
    "id": "e--evOk6qJn6"
   },
   "source": [
    "## Liniowy SVM"
   ]
  },
  {
   "cell_type": "markdown",
   "metadata": {
    "id": "RBkP5LItqJn6"
   },
   "source": [
    "**Zadanie 2 (0.5 punktu)**\n",
    "\n",
    "Wytrenuj regresję logistyczną jako nasz **model baseline'owy**. Nasze bardziej złożone modele SVM muszą być od niego lepsze, żeby był w ogóle sens je rozważać.\n",
    "\n",
    "Użyj regularyzacji L2. Dokonaj tuningu siły regularyzacji (100 wartości) za pomocą 5-krotnej walidacji skrośnej. Jako metryki do tuningu użyj F1-score.\n",
    "\n",
    "Użyj zbalansowanych wag klas. W razie potrzeby zwiększ maksymalną liczbę iteracji solwera. Może się przydać `n_jobs`. Pamiętaj o ustawieniu `random_state=0`.\n",
    "\n",
    "Sprawdź wyniki algorytmu na zbiorze testowym."
   ]
  },
  {
   "cell_type": "code",
   "metadata": {
    "id": "FxPOcZrMqJn6",
    "outputId": "36d49580-1ecb-4025-b5a8-16ff91c09214",
    "colab": {
     "base_uri": "https://localhost:8080/"
    },
    "ExecuteTime": {
     "end_time": "2025-04-16T22:18:31.316842Z",
     "start_time": "2025-04-16T22:18:24.289948Z"
    }
   },
   "source": [
    "from sklearn.linear_model import LogisticRegression\n",
    "from sklearn.model_selection import GridSearchCV\n",
    "\n",
    "param_grid = {'C': np.logspace(-5, 5, 100)}\n",
    "log_reg = LogisticRegression(penalty='l2', class_weight='balanced', random_state=0, max_iter=10000)\n",
    "\n",
    "grid_search = GridSearchCV(\n",
    "    log_reg,\n",
    "    param_grid,\n",
    "    scoring='f1',\n",
    "    cv=5,\n",
    "    n_jobs=-1,\n",
    "    verbose=1\n",
    ")\n",
    "\n",
    "grid_search.fit(X_train_scaled, y_train)\n",
    "best_C = grid_search.best_params_['C']\n",
    "y_pred = grid_search.predict(X_test_scaled)\n",
    "\n",
    "print(f\"Best C: {best_C:.4f}\")\n",
    "print(f\"F1-score: {100 * f1_score(y_test, y_pred):.2f}%\")"
   ],
   "outputs": [
    {
     "name": "stdout",
     "output_type": "stream",
     "text": [
      "Fitting 5 folds for each of 100 candidates, totalling 500 fits\n",
      "Best C: 7.2208\n",
      "F1-score: 93.28%\n"
     ]
    }
   ],
   "execution_count": 7
  },
  {
   "cell_type": "markdown",
   "metadata": {
    "id": "6k10E1coqJn6"
   },
   "source": [
    "Nasz SVM bez żadnego tuningu jest zasadniczo tak dobry, jak regresja logistyczna z tuningiem - całkiem nieźle. No ale czas teraz na tuning samego SVMa.\n",
    "\n",
    "Najpierw warto wiedzieć jeszcze parę rzeczy o implementacji użytej w Scikit-learn, korzystającej pod spodem z Liblinear.\n",
    "\n",
    "Argument `dual` wyznacza, czy skorzystać z postaci primal, czy dual. Jeżeli liczba próbek jest znacznie większa od liczby cech, albo ogółem mamy sporo próbek, to lepiej użyć primal `dual=False`. Niestety, wtedy mamy do dyspozycji tylko funkcję kosztu `squared_hinge`.\n",
    "\n",
    "SVM jest stricte jednowątkowy (sekwencyjny), więc równoległość można wykorzystać przy tuningu hiperparametrów. Zdecydowanie warto użyć tu `n_jobs=-1`.\n",
    "\n",
    "**Uwaga:** jako że osobne joby są tworzone jako osobne procesy, to wyłączenie `ConvergenceWarning` jest nietrywialne, a czasem niemożliwe. Sugeruję to po prostu zignorować.\n",
    "\n",
    "**Zadanie 3 (1 punkt)**\n",
    "\n",
    "Dokonaj tuningu hiperparametru `C` liniowego SVM. Użyj 5-krotnej walidacji skrośnej, wybierając model o najwyższym F1-score. Użyj zbalansowanych wag klas i funkcji kosztu hinge loss. Pamiętaj o stałym `random_state`.\n",
    "\n",
    "Zastosuj iteracyjne zagęszczanie siatki. Najpierw sprawdź wartości z zakresu `[1e-3, 1e-2, 1e-1, 1, 1e1, 1e2]` i znajdź optymalną wartość `C`. Następnie wedle własnego uznania zagęść siatkę wokół znalezionego optymalnego C. Może się przydać `np.linspace()` albo `list(range())`. Jeżeli w takiej operacji wychodzi optymalne `C` na granicy (najmniejsze albo największe możliwe), to warto sprawdzić większe wartości niż dotychczas rozważane. Powtórz takie działanie 2-3 razy. W praktyce jednak `C` większe niż kilkaset nie ma sensu w kontekście SVMów.\n",
    "\n",
    "Wypisz ostatecznę znalezioną optymalną wartość odwrotności siły optymalizacji `C`. Sprawdź wynik na zbiorze testowym. Czy udało się przebić baseline?"
   ]
  },
  {
   "cell_type": "code",
   "source": [
    "def find_optimal_C(param_grid):\n",
    "    grid_search = GridSearchCV(\n",
    "        LinearSVC(loss=\"hinge\", class_weight='balanced', max_iter=10000, random_state=0),\n",
    "        param_grid,\n",
    "        scoring='f1',\n",
    "        cv=5,\n",
    "        n_jobs=-1,\n",
    "        verbose=1\n",
    "    )\n",
    "\n",
    "    grid_search.fit(X_train_scaled, y_train)\n",
    "    best_C = grid_search.best_params_['C']\n",
    "    y_pred = grid_search.predict(X_test_scaled)\n",
    "\n",
    "    print(f\"Best C: {best_C:.4f}\")\n",
    "    print(f\"F1-score: {100 * f1_score(y_test, y_pred):.4f}%\")"
   ],
   "metadata": {
    "id": "HJgU6-MCkKnx",
    "ExecuteTime": {
     "end_time": "2025-04-16T22:52:21.740334Z",
     "start_time": "2025-04-16T22:52:21.737119Z"
    }
   },
   "outputs": [],
   "execution_count": 17
  },
  {
   "cell_type": "code",
   "metadata": {
    "scrolled": true,
    "id": "CyiNTdiXqJn6",
    "outputId": "08b9b326-339a-40d3-e94f-09214a92825e",
    "colab": {
     "base_uri": "https://localhost:8080/"
    },
    "ExecuteTime": {
     "end_time": "2025-04-16T22:18:35.988094Z",
     "start_time": "2025-04-16T22:18:31.411432Z"
    }
   },
   "source": [
    "# 1. iteration - given C values: 1e-3, 1e-2, 1e-1, 1, 1e1, 1e2\n",
    "find_optimal_C({'C': [1e-3, 1e-2, 1e-1, 1, 1e1, 1e2]})"
   ],
   "outputs": [
    {
     "name": "stdout",
     "output_type": "stream",
     "text": [
      "Fitting 5 folds for each of 6 candidates, totalling 30 fits\n",
      "Best C: 100.0000\n",
      "F1-score: 93.27%\n"
     ]
    },
    {
     "name": "stderr",
     "output_type": "stream",
     "text": [
      "C:\\AGH\\machine-learning-lab\\.venv\\Lib\\site-packages\\sklearn\\svm\\_base.py:1249: ConvergenceWarning: Liblinear failed to converge, increase the number of iterations.\n",
      "  warnings.warn(\n"
     ]
    }
   ],
   "execution_count": 9
  },
  {
   "cell_type": "code",
   "source": [
    "# 2. iteration - try higher C values\n",
    "find_optimal_C({'C': [1e2, 1e3, 1e4]})"
   ],
   "metadata": {
    "id": "YxI2f5SJj9qx",
    "outputId": "878acfba-7092-4f58-b9fb-9ab0d764ca5c",
    "colab": {
     "base_uri": "https://localhost:8080/"
    },
    "ExecuteTime": {
     "end_time": "2025-04-16T22:21:50.934708Z",
     "start_time": "2025-04-16T22:20:29.425225Z"
    }
   },
   "outputs": [
    {
     "name": "stdout",
     "output_type": "stream",
     "text": [
      "Fitting 5 folds for each of 3 candidates, totalling 15 fits\n",
      "Best C: 1000.0000\n",
      "F1-score: 93.29%\n"
     ]
    },
    {
     "name": "stderr",
     "output_type": "stream",
     "text": [
      "C:\\AGH\\machine-learning-lab\\.venv\\Lib\\site-packages\\sklearn\\svm\\_base.py:1249: ConvergenceWarning: Liblinear failed to converge, increase the number of iterations.\n",
      "  warnings.warn(\n"
     ]
    }
   ],
   "execution_count": 12
  },
  {
   "cell_type": "code",
   "source": [
    "# 3. iteration - search for best C value via np.linspace\n",
    "find_optimal_C({'C': np.linspace(100, 1500, 15)})"
   ],
   "metadata": {
    "id": "AVlIAYHeldOU",
    "outputId": "6275f54c-2e26-4c49-d4aa-cb1591da1de8",
    "colab": {
     "base_uri": "https://localhost:8080/"
    },
    "ExecuteTime": {
     "end_time": "2025-04-16T22:50:40.876283Z",
     "start_time": "2025-04-16T22:46:10.336523Z"
    }
   },
   "outputs": [
    {
     "name": "stdout",
     "output_type": "stream",
     "text": [
      "Fitting 5 folds for each of 15 candidates, totalling 75 fits\n",
      "Best C: 600.0000\n",
      "F1-score: 93.29%\n"
     ]
    },
    {
     "name": "stderr",
     "output_type": "stream",
     "text": [
      "C:\\AGH\\machine-learning-lab\\.venv\\Lib\\site-packages\\sklearn\\svm\\_base.py:1249: ConvergenceWarning: Liblinear failed to converge, increase the number of iterations.\n",
      "  warnings.warn(\n"
     ]
    }
   ],
   "execution_count": 15
  },
  {
   "cell_type": "code",
   "source": [
    "# 4. iteration - search for best C value via np.linspace\n",
    "find_optimal_C({'C': np.linspace(500, 700, 20)})"
   ],
   "metadata": {
    "id": "nlimMv8hldmB",
    "ExecuteTime": {
     "end_time": "2025-04-16T22:57:20.652998Z",
     "start_time": "2025-04-16T22:52:23.990942Z"
    }
   },
   "outputs": [
    {
     "name": "stdout",
     "output_type": "stream",
     "text": [
      "Fitting 5 folds for each of 20 candidates, totalling 100 fits\n",
      "Best C: 678.9474\n",
      "F1-score: 93.3044%\n"
     ]
    },
    {
     "name": "stderr",
     "output_type": "stream",
     "text": [
      "C:\\AGH\\machine-learning-lab\\.venv\\Lib\\site-packages\\sklearn\\svm\\_base.py:1249: ConvergenceWarning: Liblinear failed to converge, increase the number of iterations.\n",
      "  warnings.warn(\n"
     ]
    }
   ],
   "execution_count": 18
  },
  {
   "cell_type": "markdown",
   "metadata": {
    "id": "-ikl9qw7qJn6"
   },
   "source": "Kolejne iteracje tuningu hiperparametrów pozwalały znaleźć \"lepszą\" wartość C - nie zmieniało to jednak znacznie osiąganej jakości modelu."
  },
  {
   "cell_type": "markdown",
   "metadata": {
    "id": "PjJOrngMqJn7"
   },
   "source": [
    "Może się to jeszcze uda poprawić - w końcu w artykule autorzy używali kernel SVM, a nie liniowego!"
   ]
  },
  {
   "cell_type": "markdown",
   "metadata": {
    "id": "fHcoZY3GqJn7"
   },
   "source": [
    "## Kernel SVM"
   ]
  },
  {
   "cell_type": "markdown",
   "metadata": {
    "id": "QELOnY6gqJn7"
   },
   "source": [
    "Kernel SVM w Scikit-learn jest implementowany w klasie `SVC`. Wypróbujmy podstawową wersję, bez tuningu hiperparametrów. Przy okazji wiemy, że złożoność kernel SVM to co najmniej $O(n^2)$ - zobaczmy, ile to zajmuje w praktyce.\n",
    "\n",
    "Warto zawsze ustawić nieco wyższą wartość `cache_size` niż domyślna. Jest to ilość MB na cache'owanie obliczonych wartości kerneli. Warto jednak uważać na zbyt duże wartości:\n",
    "- wartości ponad 2000 mogą [powodować problemy przez buga w LibSVM](https://github.com/scikit-learn/scikit-learn/issues/8012)\n",
    "- sama alokacja dużej ilości pamięci (ciągłej!) może zajmować dużo czasu\n",
    "- nie wszystkie wartości kerneli będą używane często, więc nie wszystkie jest sens cache'ować"
   ]
  },
  {
   "cell_type": "code",
   "execution_count": null,
   "metadata": {
    "id": "TafnsMX3qJn7"
   },
   "outputs": [],
   "source": [
    "from time import time\n",
    "from sklearn.svm import SVC\n",
    "\n",
    "\n",
    "clf_kernel_svc = SVC(cache_size=512, class_weight=\"balanced\", random_state=0)\n",
    "start_time = time()\n",
    "clf_kernel_svc.fit(X_train_scaled, y_train)\n",
    "end_time = time()\n",
    "training_time = end_time - start_time\n",
    "\n",
    "y_pred = clf_kernel_svc.predict(X_test_scaled)\n",
    "\n",
    "print(f\"F1-score: {100 * f1_score(y_test, y_pred):.2f}%\")\n",
    "print(f\"Training time: {training_time} s\")"
   ]
  },
  {
   "cell_type": "markdown",
   "metadata": {
    "id": "1jC1bazpqJn7"
   },
   "source": [
    "Wynik jest ewidentnie lepszy, bez żadnego tuningu! Zajmuje to jednak sporo czasu. Ale nasz zbiór treningowy to ok. 60 tysięcy, a testowy 270 tysięcy - może to predykcja tyle zajmuje, a nie sam trening?\n",
    "\n",
    "**Zadanie 4 (1 punkt)**\n",
    "\n",
    "1. Sprawdź liczbę support vectors dla liniowego i kernel SVM. Sprawdź, jaki procent wszystkich punktów one stanowią. Czy rzadkość (sparsity) została osiągnięta? Może się przydać [ten przykład](https://scikit-learn.org/stable/auto_examples/svm/plot_linearsvc_support_vectors.html), żeby zliczyć support vectors dla liniowego SVM (`X` to u nas `X_train_scaled`).\n",
    "2. Porównaj czas predykcji na zbiorze testowym dla regresji logistycznej, liniowego SVM i kernel SVM. Uwzględniając rozmiar zbioru testowego, czy twoim zdaniem to dużo?"
   ]
  },
  {
   "cell_type": "code",
   "execution_count": null,
   "metadata": {
    "scrolled": true,
    "id": "qeN-8SzVqJn7"
   },
   "outputs": [],
   "source": []
  },
  {
   "cell_type": "markdown",
   "metadata": {
    "id": "5UinBSZsqJn7"
   },
   "source": [
    "// skomentuj tutaj"
   ]
  },
  {
   "cell_type": "markdown",
   "metadata": {
    "id": "-5-z7plGqJn7"
   },
   "source": [
    "Taki zbiór jest już dość ekstremalny dla kernel SVM. Tego algorytmu w praktyce nie stosuje się wprost dla zbiorów wielkości dziesiątek tysięcy próbek treningowych, bo byłoby to zbyt wolne. Można tu natomiast zastosować podobną sztuczkę, co z kNN i ANN, czyli aproksymować - w tym wypadku macierz kerneli. Dotyczy tego zadanie dodatkowe.\n",
    "\n",
    "Dodatkowo implementacja ze Scikit-learn potrafi być zaskakująco wolna. W praktyce LibSVM, użyty jako [samodzielna biblioteka](https://pypi.org/project/libsvm-official/), potrafi być o wiele szybszy. Ma za to dużo brzydszy interfejs.\n",
    "\n",
    "W praktyce kernel SVM jest używany najczęściej, kiedy mamy mało danych i trzeba bardzo dokładnego klasyfikatora, a jego duży koszt nie jest tak odczuwalny."
   ]
  },
  {
   "cell_type": "markdown",
   "metadata": {
    "id": "zDC-pZPrqJn7"
   },
   "source": [
    "## Mały zbiór danych do klasyfikacji"
   ]
  },
  {
   "cell_type": "markdown",
   "metadata": {
    "id": "mzjH60B1qJn7"
   },
   "source": [
    "Jako drugi zbiór wykorzystamy [Iranian Churn Dataset](https://archive.ics.uci.edu/ml/datasets/Iranian+Churn+Dataset) ([Kaggle](https://www.kaggle.com/datasets/royjafari/customer-churn)). Dotyczy on klasyfikacji, czy dany klient telekomunikacyjny zmieni dostawcę, czyli nastąpi tzw. odpływ klienta (*customer churn*). Jest to bardzo ważne i częste zadanie w telekomunikacji i usługach, szczególnie w biznesach, gdzie pozyskanie całkiem nowych klientów jest bardzo trudne albo praktycznie niemożliwe, a trzeba ich w praktyce odebrać konkurencji. To właśnie sytuacja firm telekomunikacyjnych - telefon czy internet ma praktycznie każdy, więc zdobywanie nowych klientów jest drogie. Dużo bardziej opłaca się identyfikować \"ryzykownych\" klientów i ich zachęcić do pozostania, np. promocjami.\n",
    "\n",
    "Dane zostały pozyskane z irańskich firm telekomunikacyjnych (konkretnie z call center obsługującego takie firmy). [Historia telekomunikacji w Iranie](https://en.wikipedia.org/wiki/Communications_in_Iran) jest ciekawa sama w sobie i pokazuje, czemu w tym kraju to było szczególnie ważne. Iran w 2008 roku miał populację ponad 80 milionów ludzi, z czego około 56% poniżej 25 roku życia - idealny i duży rynek dla nowych technologii. Ponadto samo zainteresowanie było ogromne, a tempo rozwoju kraju oraz prywatyzacja państwowych spółek stworzyły niesamowicie konkurencyjny rynek. Churn prediction stało się bardzo ważnym finansowo zadaniem dla wielu spółek.\n",
    "\n",
    "Z perspektywy ML, churn prediction to praktycznie zawsze klasyfikacja binarna i niezbalanansowana - zwykle mało który klient odchodzi.\n",
    "\n",
    "Zbiór ten został zebrany przez autorów na potrzeby artykułu:\n",
    "\n",
    "> Keramati, Abbas, and Seyed MS Ardabili. *\"Churn analysis for an Iranian mobile operator.\"* Telecommunications Policy 35.4 (2011): 344-356.\n",
    "\n",
    "Churn prediction z użyciem tego zbioru zostało przez nich zastosowane w artykułach:\n",
    "\n",
    "> Keramati, Abbas, et al. *\"Improved churn prediction in telecommunication industry using data mining techniques.\"* Applied Soft Computing 24 (2014): 994-1012.\n",
    "\n",
    "> Jafari-Marandi, Ruholla, et al. *\"Optimum profit-driven churn decision making: innovative artificial neural networks in telecom industry.\"* Neural Computing and Applications 32 (2020): 14929-14962.\n",
    "\n",
    "Dane są wysokiej jakości - ludzi monitorowano przez 12 miesięcy, aby uzyskać miarodajną informację w czasie, czy odejdą do innego operatora. Dodatkowo nie mają wartości brakujących i outlierów, a wszystkie zmienne są numeryczne. Zastosowaną w artykułach metryką jest F1-score.\n",
    "\n",
    "Zbiór został wzięty z Kaggle (opublikował go tam Ruholla Jafari-Marandi). W dodatku do zmiennych opisanych na stronie UCI, zawiera on oszacowaną wartość FP i FN dla każdego klienta. Wykorzystamy to później - w końcu utrata dużo płacącego klienta jest bardziej kosztowna."
   ]
  },
  {
   "cell_type": "markdown",
   "metadata": {
    "id": "30YoPZNhqJn7"
   },
   "source": [
    "**Zadanie 5 (2 punkty)**\n",
    "\n",
    "1. Wczytaj dane z pliku `customer_churn_data.csv`.\n",
    "2. Wyodrębnij kolumny do zmiennych:\n",
    "   - `Churn` do zmiennej `y`\n",
    "   - `FN` do zmiennej `fn_cost`\n",
    "   - `FP` do zmiennej `fp_cost`\n",
    "3. Narysuj wykres słupkowy (bar plot) częstości klas. Pamiętaj o opisaniu wykresu.\n",
    "4. Podziel zbiór na treningowy i testowy w proporcjach 75%-25% ze stratyfikacją. Pamiętaj o stałym `random_state=0`. Uwaga - podziel też `fn_cost` oraz `fp_cost` na treningowe i testowe.\n",
    "5. Dokonaj standaryzacji zmiennych."
   ]
  },
  {
   "cell_type": "code",
   "execution_count": null,
   "metadata": {
    "id": "1JsptSElqJn7"
   },
   "outputs": [],
   "source": []
  },
  {
   "cell_type": "markdown",
   "metadata": {
    "id": "wMDcQZrMqJn7"
   },
   "source": [
    "**Zadanie 6 (1 punkt)**\n",
    "\n",
    "Wytrenuj liniowy SVM:\n",
    "   - ustaw maksymalnie 10000 iteracji i zbalansowane wagi klas\n",
    "   - dokonaj tuningu hiperparametru `C` za pomocą 5-krotnej walidacji skrośnej\n",
    "   - sprawdź 100 wartości z zakresu od $10^{-2}$ do $10^2$\n",
    "   - wypisz znalezioną optymalną wartość `C`\n",
    "   - wybierz model o najwyższym F1-score\n",
    "   - zmierz czas treningu (włącznie z tuningiem)\n",
    "   - sprawdź F1-score na zbiorze testowym\n",
    "   - pamiętaj o ustawieniu `random_state=0`\n"
   ]
  },
  {
   "cell_type": "code",
   "execution_count": null,
   "metadata": {
    "id": "WVWq7kLPqJn8"
   },
   "outputs": [],
   "source": []
  },
  {
   "cell_type": "markdown",
   "metadata": {
    "collapsed": false,
    "jupyter": {
     "outputs_hidden": false
    },
    "id": "fJdzVXCEqJn8"
   },
   "source": [
    "**Zadanie 7 (2 punkty)**\n",
    "\n",
    "1. Wytrenuj kernel SVM z domyślnymi hiperparametrami:\n",
    "   - ustaw zbalansowane wagi klas\n",
    "   - zmierz czas treningu\n",
    "   - sprawdź F1-score na zbiorze testowym\n",
    "   - zmierz czas treningu\n",
    "   - pamiętaj o ustawieniu `random_state=0`\n",
    "2. Wytrenuj kernel SVM z tuningiem hiperparametrów:\n",
    "   - sprawdź kilka siatek hiperparametrów (`param_grid` może być listą słowników!)\n",
    "   - dla kerneli RBF sprawdź 10 wartości `C` z zakresu od $10^{-2}$ do $10^2$, a dla `gamma` sprawdź wartość `\"scale\"` oraz 10 wartości z zakresu od $10^{-2}$ do $10^2$\n",
    "   - dla kernela wielomianowego sprawdź 100 wartości `C` z zakresu od $10^{-2}$ do $10^2$ oraz stopnie wielomianu z zakresu [2, 5]\n",
    "   - dla kernela sigmoidalnego sprawdź te same zakresy wartości, co dla RBF\n",
    "3. Dokonaj analizy hiperparametrów po tuningu:\n",
    "   - sprawdź, dla jakich hiperparametrów osiągnięto najwyższy wynik walidacji skrośnej\n",
    "   - sprawdź, jaki był najlepszy wynik osiągnięty dla każdego z trzech kerneli\n",
    "   - wypisz hiperparametry dla każdego z tych przypadków\n",
    "   - który kernel wymagał najmocniejszej regularyzacji i jak sądzisz, czemu ten?\n",
    "   - wytrenuj SVM dla optymalnych hiperparametrów dla każdego z trzech kerneli i sprawdź F1-score na zbiorze testowym\n",
    "   - czy udało się dobrze oszacować wynik za pomocą walidacji skrośnej, tj. czy faktycznie kernel o najwyższym wyniku walidacyjnym miał najwyższy wynik testowy?\n"
   ]
  },
  {
   "cell_type": "code",
   "execution_count": null,
   "metadata": {
    "id": "eJ9DuSY4qJn8"
   },
   "outputs": [],
   "source": []
  },
  {
   "cell_type": "markdown",
   "metadata": {
    "id": "k9qrjgL9qJn8"
   },
   "source": [
    "// skomentuj tutaj"
   ]
  },
  {
   "cell_type": "markdown",
   "metadata": {
    "id": "muTeeWlOqJn8"
   },
   "source": [
    "Nie uwzględniliśmy jednak jeszcze faktu, że nasi klienci mają różną wagę. Według badań koszt zyskania klienta jest około 15 razy wyższy od kosztu utrzymania klienta, który jest zagrożony przejściem dla konkurencji. W związku z tym FP i FN mają różną ważnośc. Dodatkowo sami klienci płacą mniej lub więcej, więc to też trzeba uwzględnić. Na szczęście my mamy już to zrobione, bo mamy macierze `fp_cost` oraz `fn_cost` oznaczające koszt pomylenia się na oba sposoby w przypadku każdego klienta.\n",
    "\n",
    "Powinniśmy zatem używać **ważonej metryki (weighted metric)**, która dla każdego przykładu stosuje odpowiednią wagę, i to w zależności od tego, w jaki sposób się pomyliliśmy. Tego typu metryki typowo działają jak funkcje kosztu - im mniejsza wartość, tym lepiej, bo często dosłownie reprezentują koszt, jaki firma musi ponieść przy stosowaniu danego algorytmu. Wykorzystanie takiej metryki to **cost-sensitive classification**.\n",
    "\n",
    "**Zadanie 8 (0.5 punktu)**\n",
    "\n",
    "1. Uzupełnij kod funkcji `churn_cost()`, która oblicza koszt dokonania danej klasyfikacji.\n",
    "2. Stwórz funkcję w postaci akceptowanej przez `GridSearchCV` za pomocą `make_scorer`. Zwróć uwagę, żeby podać do niej prawidłowe argumenty."
   ]
  },
  {
   "cell_type": "code",
   "execution_count": null,
   "metadata": {
    "id": "DuZjo-diqJn8"
   },
   "outputs": [],
   "source": [
    "from typing import Union\n",
    "\n",
    "\n",
    "def churn_cost(\n",
    "    y_true: Union[np.ndarray, pd.Series],\n",
    "    y_pred: Union[np.ndarray, pd.Series],\n",
    "    fp_cost: Union[np.ndarray, pd.Series],\n",
    "    fn_cost: Union[np.ndarray, pd.Series],\n",
    ") -> float:\n",
    "    # make sure all data is Numpy arrays\n",
    "\n",
    "    # check which rows are for FP and FN\n",
    "\n",
    "    # get costs for FP and FN\n",
    "\n",
    "    # return sum of costs\n",
    "    return ...\n",
    "\n",
    "\n",
    "churn_cost_score = ..."
   ]
  },
  {
   "cell_type": "markdown",
   "metadata": {
    "id": "22wmoc6jqJn8"
   },
   "source": [
    "**Zadanie 9 (1 punkt)**\n",
    "\n",
    "1. Wytrenuj klasyfikatory stały `DummyClassifier`:\n",
    "   - taki, który zawsze przewiduje klasę negatywną (brak zmiany)\n",
    "   - taki, który zawsze przewiduje klasę pozytywną (churn)\n",
    "2. Sprawdź metrykę F1-score oraz nasz nowo zdefiniowany churn cost dla takich rozwiązań na zbiorze testowym. Wykorzystaj `fp_cost_test` oraz `fn_cost_test`.\n",
    "3. Lepiej jest stosować reklamy dla wszystkich, czy po prostu zgodzić się na churn i nic z tym nie robić? Uwzględniając liczbę próbek w zbiorze testowym, czy twoim zdaniem wysoki koszt? Załóż, że walutą są dolary - irański rial zawsze był tak słabą walutą, że i tak używano walut zagranicznych, co widać też w tym zbiorze. Wartość każdego klienta jest typowo wysoka, bo to obliczona tzw. lifetime value - przewidywana potencjalna wartość klienta w przyszłości."
   ]
  },
  {
   "cell_type": "code",
   "execution_count": null,
   "metadata": {
    "id": "-tGRdEryqJn8"
   },
   "outputs": [],
   "source": []
  },
  {
   "cell_type": "markdown",
   "metadata": {
    "id": "Vgjq2ppdqJn8"
   },
   "source": [
    "// skomentuj tutaj"
   ]
  },
  {
   "cell_type": "markdown",
   "metadata": {
    "id": "F_ckOIFFqJn8"
   },
   "source": [
    "**Zadanie 10 (1.5 punktu)**\n",
    "\n",
    "1. Wytrenuj liniowy SVM, wykorzystaj znalezioną wcześniej optymalną wartość `C`. Innych parametrów użyj tak, jak wcześniej. Jaki jest koszt przy wdrożeniu takiego rozwiązania? Ile zyskujemy względem najlepszego rozwiązania z poprzedniego zadania?\n",
    "2. Wytrenuj kernel SVM, wykorzystaj znalezione wcześniej optymalne wartości hiperparametrów. Innych parametrów użyj tak, jak wcześniej. O ile lepszy jest koszt? O ile lepszy jest od modelu liniowego, jakim jest liniowy SVM?\n",
    "3. Czy twoim zdaniem warto wdrażać rozwiązania oparte o ML do takich zadań?"
   ]
  },
  {
   "cell_type": "code",
   "execution_count": null,
   "metadata": {
    "id": "vDRKMUiyqJn8"
   },
   "outputs": [],
   "source": []
  },
  {
   "cell_type": "markdown",
   "metadata": {
    "id": "KNvD6jmNqJoE"
   },
   "source": [
    "// skomentuj tutaj"
   ]
  },
  {
   "cell_type": "markdown",
   "metadata": {
    "id": "lRRqCeRkqJoE"
   },
   "source": [
    "## Zadanie dodatkowe (3 punkty)\n",
    "\n",
    "W przypadku, kiedy zastosowanie kernel SVM wprost byłoby zbyt kosztowne, można zamiast tego przybliżyć cechy kernelowe. Realizują to algorytmy grupy kernel approximation.\n",
    "\n",
    "Metoda Nyströma to algorytm uniwersalny, który potrafi przybliżyć dowolny kernel. Wykorzystuje do tego truncated SVD, czyli przybliża wprost kernel matrix za pomocą macierzy niższej rangi. Ceną tej prostoty i uniwersalności jest nie najlepsza prędkość działania w porównaniu do bardziej specjalistycznych algorytmów. Proste wyprowadzenie tej metody można znaleźć [tutaj](https://stats.stackexchange.com/questions/261149/nystroem-method-for-kernel-approximation).\n",
    "\n",
    "`RBFSampler` w Scikit-learn implementuje metodę Random Kitchen Sinks. Ten algorytm za pomocą próbkowania Monte Carlo przybliża coraz lepiej macierz kernela RBF. W bibliotece Scikit-learn-extra zaimplementowane jest rozwinięcie tego algorytmu o nazwie [Fastfood](https://scikit-learn-extra.readthedocs.io/en/stable/generated/sklearn_extra.kernel_approximation.Fastfood.html), który stosuje nieco bardziej zaawansowany algorytm przybliżający, który powinien być jeszcze szybszy i oszczędniejszy pamięciowo.\n",
    "\n",
    "Hiperparametry tych metod są podobne do zwykłego kernel SVM, ale dodatkowo mamy wymiarowość naszego przybliżenia, czyli `n_components`. Im większe, tym dokładniej przybliżamy, ale też tym więcej mamy cech. Wejściem do metody Nyströma jest macierz cech X, a wyjściem macierz cech kernelowych X mająca rozmiar `n_samples * n_components`. Na takich cechach trenuje się już zwykły liniowy SVM.\n",
    "\n",
    "1. Zaimplementuj `Pipeline` składający się z przybliżenia kernela oraz liniowego SVM: dla metody Nyströma, oraz dla obu algorytmów dla kernela RBF.\n",
    "2. Wytrenuj algorytmy z domyślnymi hiperparametrami dla zbioru Cod-RNA. Porównaj jakość predykcji oraz szybkość z liniowym SVM i kernel SVM. Czy warto wykorzystać takie podejście?\n",
    "3. Dokonaj optymalizacji hiperparametrów `C`, `gamma` oraz `n_components`. Czy udało się poprawić wynik względem zwykłego kernel SVM w rozsądnym czasie?"
   ]
  },
  {
   "cell_type": "code",
   "execution_count": null,
   "metadata": {
    "id": "fy5Mg3UOqJoE"
   },
   "outputs": [],
   "source": []
  },
  {
   "cell_type": "markdown",
   "metadata": {
    "id": "AXxVjpmOqJoE"
   },
   "source": [
    "// skomentuj tutaj"
   ]
  },
  {
   "cell_type": "code",
   "execution_count": null,
   "metadata": {
    "id": "IGMGcOkAqJoF"
   },
   "outputs": [],
   "source": []
  }
 ],
 "metadata": {
  "kernelspec": {
   "display_name": "Python 3 (ipykernel)",
   "language": "python",
   "name": "python3"
  },
  "language_info": {
   "codemirror_mode": {
    "name": "ipython",
    "version": 3
   },
   "file_extension": ".py",
   "mimetype": "text/x-python",
   "name": "python",
   "nbconvert_exporter": "python",
   "pygments_lexer": "ipython3",
   "version": "3.11.8"
  },
  "colab": {
   "provenance": []
  }
 },
 "nbformat": 4,
 "nbformat_minor": 0
}
